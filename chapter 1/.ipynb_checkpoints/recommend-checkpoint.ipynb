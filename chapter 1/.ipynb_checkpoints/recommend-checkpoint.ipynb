{
 "cells": [
  {
   "cell_type": "code",
   "execution_count": 3,
   "id": "a2769c94-8b2f-4855-b63f-9dfb53af40e2",
   "metadata": {},
   "outputs": [
    {
     "name": "stdout",
     "output_type": "stream",
     "text": [
      "안녕하세요! 영화 추천 봇입니다 :D\n"
     ]
    }
   ],
   "source": [
    "import pandas as pd\n",
    "\n",
    "# CSV 파일 로드\n",
    "try:\n",
    "    df = pd.read_csv(\"prob-0101.csv\")\n",
    "except FileNotFoundError:\n",
    "    print(\"CSV 파일을 찾을 수 없습니다. 파일 경로를 확인하세요.\")\n",
    "    exit()\n",
    "\n",
    "\n",
    "print(\"안녕하세요! 영화 추천 봇입니다 :D\") "
   ]
  },
  {
   "cell_type": "code",
   "execution_count": 4,
   "id": "aed086b6-018e-4626-9419-5d6e81106049",
   "metadata": {},
   "outputs": [
    {
     "name": "stdout",
     "output_type": "stream",
     "text": [
      "          개봉일          제목                  배급사   감독                     출연진  \\\n",
      "0  2023-01-04         스위치  롯데컬처웍스, (주)롯데엔터테인먼트  마대윤  권상우, 오정세, 이민정, 박소이, 김준   \n",
      "1  2023-01-05        강남좀비            (주)와이드릴리즈  이수성                 지일주, 지연   \n",
      "2  2023-01-12  별 볼일 없는 인생             (주)이놀미디어  서동현                     정가은   \n",
      "3  2023-01-12    10일간의 애인               (주)그노스  이영용                     송민경   \n",
      "4  2023-01-18          교섭           플렉스엠엔터테인먼트  임순례            황정민, 현빈, 강기영   \n",
      "\n",
      "       장르  \n",
      "0      기타  \n",
      "1     드라마  \n",
      "2  멜로/로맨스  \n",
      "3  멜로/로맨스  \n",
      "4     드라마  \n"
     ]
    }
   ],
   "source": [
    "# 첫 5열을 출력\n",
    "print(df.head(5))"
   ]
  },
  {
   "cell_type": "code",
   "execution_count": 5,
   "id": "371f08de-4d6f-4e9e-8cd0-23a5a8141a65",
   "metadata": {},
   "outputs": [
    {
     "name": "stdout",
     "output_type": "stream",
     "text": [
      "행(row): 59개\n",
      "열(column): 6개\n"
     ]
    }
   ],
   "source": [
    "# 데이터프레임의 행(row)과 열(column) 수 출력\n",
    "num_rows, num_columns = df.shape\n",
    "\n",
    "print(f\"행(row): {num_rows}개\")\n",
    "print(f\"열(column): {num_columns}개\")"
   ]
  },
  {
   "cell_type": "code",
   "execution_count": 6,
   "id": "df1250d8-f046-4b42-b2e0-9574fb10ccd6",
   "metadata": {},
   "outputs": [
    {
     "name": "stdout",
     "output_type": "stream",
     "text": [
      "<class 'pandas.core.frame.DataFrame'>\n",
      "RangeIndex: 59 entries, 0 to 58\n",
      "Data columns (total 6 columns):\n",
      " #   Column  Non-Null Count  Dtype \n",
      "---  ------  --------------  ----- \n",
      " 0   개봉일     59 non-null     object\n",
      " 1   제목      59 non-null     object\n",
      " 2   배급사     59 non-null     object\n",
      " 3   감독      59 non-null     object\n",
      " 4   출연진     59 non-null     object\n",
      " 5   장르      59 non-null     object\n",
      "dtypes: object(6)\n",
      "memory usage: 2.9+ KB\n",
      "None\n"
     ]
    }
   ],
   "source": [
    "# 데이터프레임 정보 출력\n",
    "print(df.info())\n",
    "\n",
    "# 결측치 제거 (dropna : 새로운 Series 반환, 메모리 비효율에 주의)\n",
    "# 결측치는 Null 값을 의미힘\n",
    "df = df.dropna()"
   ]
  },
  {
   "cell_type": "code",
   "execution_count": 13,
   "id": "c41f3c19-4020-41b9-986a-14b0265ded54",
   "metadata": {},
   "outputs": [
    {
     "name": "stdout",
     "output_type": "stream",
     "text": [
      "영화 수 : 59\n",
      "배급사 수 : 55\n",
      "출연진 수 : 262\n",
      "{'미스터리', '로맨스', '기타', '드라마', '범죄', '가족', '다큐멘터리', '액션', '멜로', '스럴리', '공포', '스릴러', 'SF', '코미디'}\n",
      "장르 수 : 14\n",
      "{'임재완', '박동훈', '이해영', '연상호', '이수성', '이송희일', '장형모', '박동기', '이현준', '황승제', '최종태', '박성광', '신근호', '민용근', '이원석', '가성문', '한경탁', '이병헌', '박훈정', '김덕중', '서동현', '윤여창', '주영', '배인우', '이상훈', '이창열', '이황', '양윤모', '홍상수', '이원태', '김현정', '김주환', '권혁재', '임성용', '최창환', '이소현', '최세환', '마대윤', '윤성호', '형슬우', '곽정덕', '임성운', '최윤호', '임순례', '최하나', '신재호', '한인미', '조은성', '이영용', '최승연', '이종필', '송현주', '이상용', '김홍기', '정주리', '김태준', '이완민', '양경희', '최주연', '문신구', '장항준', '김성환'}\n",
      "감독 수 : 62\n"
     ]
    }
   ],
   "source": [
    "import re\n",
    "\n",
    "# 영화 수 : '제목'의 행의 개수\n",
    "movie = df['제목']\n",
    "movie_count = len(movie)\n",
    "print(f\"영화 수 : {movie_count}\")\n",
    "\n",
    "# 배급사 수\n",
    "distributor = df['배급사']\n",
    "distributor_set = set(', '.join(distributor).split(', '))\n",
    "distributor_count = len(distributor_set)\n",
    "print(f\"배급사 수 : {distributor_count}\")\n",
    "\n",
    "# 출연진 수 : 이름이 같으면 같은 사람\n",
    "cast = df['출연진']\n",
    "cast_set = set(', '.join(cast).split(', '))\n",
    "cast_count = len(cast_set)\n",
    "print(f\"출연진 수 : {cast_count}\")\n",
    "\n",
    "# 장르 수 : 이름이 같으면 같은 장르\n",
    "genre = df['장르']\n",
    "genre_set = set(\n",
    "    map(lambda g: g.strip(), (g for genre_item in genre for g in re.split('[,·/]', genre_item) if g.strip()))\n",
    ")\n",
    "print(genre_set)\n",
    "genre_count = len(genre_set)\n",
    "print(f\"장르 수 : {genre_count}\")\n",
    "\n",
    "# 감독 수 : 이름이 같으면 같은 사람\n",
    "director = df['감독']\n",
    "director_set = set(', '.join(director).split(', '))\n",
    "print(director_set)\n",
    "director_count = len(director_set)\n",
    "print(f\"감독 수 : {director_count}\")\n"
   ]
  },
  {
   "cell_type": "code",
   "execution_count": 14,
   "id": "d895abc8-63a1-4346-8c24-2ee33d07223a",
   "metadata": {},
   "outputs": [
    {
     "name": "stdout",
     "output_type": "stream",
     "text": [
      "이현준 감독의 \"남자는 처음을 원하고 여자는 마지막을 원한다\"를 추천합니다 :D\n",
      "2023-05-18에 발매된 영화이고, 장르는 멜로·로맨스입니당!!\n",
      "즐거운 시간 보내세용\n"
     ]
    }
   ],
   "source": [
    "# 영화 추천 기준 : 오늘 날짜와 시간을 전부 더한 후 영화 수로 나눈 나머지를 추천\n",
    "timestamp = pd.Timestamp.now()\n",
    "date_time_sum = timestamp.year + timestamp.month + timestamp.day + timestamp.hour + timestamp.minute + timestamp.second\n",
    "recommend_index = date_time_sum % movie_count\n",
    "\n",
    "# 추천 영화는 1개임\n",
    "recommended_movie = df.iloc[recommend_index]\n",
    "\n",
    "print(f\"{recommended_movie['감독']} 감독의 \\\"{recommended_movie['제목']}\\\"를 추천합니다 :D\")\n",
    "print(f\"{recommended_movie['개봉일']}에 발매된 영화이고, 장르는 {recommended_movie['장르']}입니당!!\")\n",
    "print(\"즐거운 시간 보내세용\")"
   ]
  },
  {
   "cell_type": "code",
   "execution_count": null,
   "id": "f0f406f7-d1fe-404a-a412-971b2efe2dfd",
   "metadata": {},
   "outputs": [],
   "source": []
  },
  {
   "cell_type": "code",
   "execution_count": null,
   "id": "8ac124ff-bb4a-4cc6-bd70-95f0365dd6d4",
   "metadata": {},
   "outputs": [],
   "source": []
  },
  {
   "cell_type": "code",
   "execution_count": null,
   "id": "9590fcd2-2001-427f-8a4a-987713e89bb8",
   "metadata": {},
   "outputs": [],
   "source": []
  },
  {
   "cell_type": "code",
   "execution_count": null,
   "id": "8192b3a8-c3ce-4956-9141-c77642a2d045",
   "metadata": {},
   "outputs": [],
   "source": []
  },
  {
   "cell_type": "code",
   "execution_count": null,
   "id": "76a4289e-e57a-483a-9766-d90ea4cd1305",
   "metadata": {},
   "outputs": [],
   "source": []
  },
  {
   "cell_type": "code",
   "execution_count": null,
   "id": "ff730945-ec54-4e04-bb7a-edebb31bd84d",
   "metadata": {},
   "outputs": [],
   "source": []
  },
  {
   "cell_type": "code",
   "execution_count": null,
   "id": "44e155b3-7594-494e-a7ec-2763beeda626",
   "metadata": {},
   "outputs": [],
   "source": []
  },
  {
   "cell_type": "code",
   "execution_count": null,
   "id": "71583f36-7aa9-40e3-8af6-517f9cdb1d44",
   "metadata": {},
   "outputs": [],
   "source": []
  },
  {
   "cell_type": "code",
   "execution_count": null,
   "id": "9a87c98e-4817-436a-a280-2b05d111ba64",
   "metadata": {},
   "outputs": [],
   "source": []
  }
 ],
 "metadata": {
  "kernelspec": {
   "display_name": "Python 3 (ipykernel)",
   "language": "python",
   "name": "python3"
  },
  "language_info": {
   "codemirror_mode": {
    "name": "ipython",
    "version": 3
   },
   "file_extension": ".py",
   "mimetype": "text/x-python",
   "name": "python",
   "nbconvert_exporter": "python",
   "pygments_lexer": "ipython3",
   "version": "3.12.7"
  }
 },
 "nbformat": 4,
 "nbformat_minor": 5
}
