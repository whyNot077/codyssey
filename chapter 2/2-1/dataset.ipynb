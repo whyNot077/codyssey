{
 "cells": [
  {
   "cell_type": "markdown",
   "id": "9c8e72ea-ca3e-4e62-82b1-968eb39ea7ca",
   "metadata": {},
   "source": [
    "# 영화 관련 데이터셋 비교하기\n",
    "- MovieLens, KMRD, Netflix 데이터셋을 비교한다.\n",
    "- 영화, 사용자, 장르, 출연배우, 제작국가, 제작일, 출시일, 평점, 평가일 등 제공하는 정보를 확인하고 조합해 보면서 확인한다."
   ]
  },
  {
   "cell_type": "code",
   "execution_count": 14,
   "id": "499b62d6-cd36-4def-a487-02a8540736fd",
   "metadata": {},
   "outputs": [],
   "source": [
    "import pandas as pd\n",
    "import os\n",
    "\n",
    "def display_dataset_heads(dataset_path, encoding=\"utf-8\"):\n",
    "    try:\n",
    "        # List all files in the dataset directory\n",
    "        files = os.listdir(dataset_path)\n",
    "\n",
    "        # Loop through each file\n",
    "        for file in files:\n",
    "            file_path = os.path.join(dataset_path, file)\n",
    "\n",
    "            # Check for .csv or .txt files\n",
    "            if file.endswith(\".csv\"):\n",
    "                print(f\"\\nLoading {file}...\")\n",
    "                data = pd.read_csv(file_path, engine='c', encoding=encoding)\n",
    "                print(data.head())\n",
    "            elif file.endswith(\".txt\"):\n",
    "                print(f\"\\nLoading {file}...\")\n",
    "                data = pd.read_csv(file_path, delimiter='[|\\t]', engine='python', header=None, encoding=encoding)\n",
    "                print(data.head())\n",
    "    except FileNotFoundError as e:\n",
    "        print(f\"Error: {e}\")\n",
    "    except Exception as e:\n",
    "        print(f\"An unexpected error occurred: {e}\")\n"
   ]
  },
  {
   "cell_type": "markdown",
   "id": "859bf9f9-bc30-4d0e-b7d7-d6d7047990ff",
   "metadata": {},
   "source": [
    "# MovieLens Dataset\n"
   ]
  },
  {
   "cell_type": "code",
   "execution_count": 15,
   "id": "8ebdc234-9f25-4e64-b6fa-47afdb8900da",
   "metadata": {},
   "outputs": [
    {
     "name": "stdout",
     "output_type": "stream",
     "text": [
      "\n",
      "Loading links.csv...\n",
      "   movieId  imdbId   tmdbId\n",
      "0        1  114709    862.0\n",
      "1        2  113497   8844.0\n",
      "2        3  113228  15602.0\n",
      "3        4  114885  31357.0\n",
      "4        5  113041  11862.0\n",
      "\n",
      "Loading tags.csv...\n",
      "   userId  movieId              tag   timestamp\n",
      "0       2    60756            funny  1445714994\n",
      "1       2    60756  Highly quotable  1445714996\n",
      "2       2    60756     will ferrell  1445714992\n",
      "3       2    89774     Boxing story  1445715207\n",
      "4       2    89774              MMA  1445715200\n",
      "\n",
      "Loading ratings.csv...\n",
      "   userId  movieId  rating  timestamp\n",
      "0       1        1     4.0  964982703\n",
      "1       1        3     4.0  964981247\n",
      "2       1        6     4.0  964982224\n",
      "3       1       47     5.0  964983815\n",
      "4       1       50     5.0  964982931\n",
      "\n",
      "Loading README.txt...\n",
      "                                                   0\n",
      "0                                            Summary\n",
      "1                                            =======\n",
      "2  This dataset (ml-latest-small) describes 5-sta...\n",
      "3  Users were selected at random for inclusion. A...\n",
      "4  The data are contained in the files `links.csv...\n",
      "\n",
      "Loading movies.csv...\n",
      "   movieId                               title  \\\n",
      "0        1                    Toy Story (1995)   \n",
      "1        2                      Jumanji (1995)   \n",
      "2        3             Grumpier Old Men (1995)   \n",
      "3        4            Waiting to Exhale (1995)   \n",
      "4        5  Father of the Bride Part II (1995)   \n",
      "\n",
      "                                        genres  \n",
      "0  Adventure|Animation|Children|Comedy|Fantasy  \n",
      "1                   Adventure|Children|Fantasy  \n",
      "2                               Comedy|Romance  \n",
      "3                         Comedy|Drama|Romance  \n",
      "4                                       Comedy  \n"
     ]
    }
   ],
   "source": [
    "movielens_path = \"../../../../Downloads/ml-latest-small\"\n",
    "display_dataset_heads(movielens_path)"
   ]
  },
  {
   "cell_type": "markdown",
   "id": "142c84bd-0dca-4772-9992-622293b4271f",
   "metadata": {},
   "source": [
    "- MovieLens에서는 영화, 장르, 사용자별 평점, timestamp, tags를 볼 수 있음 -> 사용자 평점과 영화 내용을 파악할 수 있음"
   ]
  },
  {
   "cell_type": "markdown",
   "id": "618bbf1e-c583-49f6-8c75-4e46b69c905c",
   "metadata": {},
   "source": [
    "# KMRD Dataset"
   ]
  },
  {
   "cell_type": "code",
   "execution_count": 20,
   "id": "492ca04c-64e7-422b-97ec-3e7581423927",
   "metadata": {},
   "outputs": [
    {
     "name": "stdout",
     "output_type": "stream",
     "text": [
      "\n",
      "Loading countries.csv...\n",
      "   movie country\n",
      "0  10001    이탈리아\n",
      "1  10001     프랑스\n",
      "2  10002      미국\n",
      "3  10003      미국\n",
      "4  10004      미국\n",
      "\n",
      "Loading movies.txt...\n",
      "       0           1                                   2     3        4\n",
      "0  movie       title                           title_eng  year    grade\n",
      "1  10001      시네마 천국              Cinema Paradiso , 1988  2013   전체 관람가\n",
      "2  10002    빽 투 더 퓨쳐           Back To The Future , 1985  2015  12세 관람가\n",
      "3  10003  빽 투 더 퓨쳐 2    Back To The Future Part 2 , 1989  2015  12세 관람가\n",
      "4  10004  빽 투 더 퓨쳐 3  Back To The Future Part III , 1990  1990   전체 관람가\n",
      "\n",
      "Loading genres.csv...\n",
      "   movie   genre\n",
      "0  10001     드라마\n",
      "1  10001  멜로/로맨스\n",
      "2  10002      SF\n",
      "3  10002     코미디\n",
      "4  10003      SF\n",
      "\n",
      "Loading rates.csv...\n",
      "   user  movie  rate        time\n",
      "0     0  10003     7  1494128040\n",
      "1     0  10004     7  1467529800\n",
      "2     0  10018     9  1513344120\n",
      "3     0  10021     9  1424497980\n",
      "4     0  10022     7  1427627340\n",
      "\n",
      "Loading peoples.txt...\n",
      "        0         1               2\n",
      "0  people    korean        original\n",
      "1       5    아담 볼드윈    Adam Baldwin\n",
      "2       8   애드리안 라인     Adrian Lyne\n",
      "3       9     에이단 퀸     Aidan Quinn\n",
      "4      13  구로사와 아키라  Akira Kurosawa\n",
      "\n",
      "Loading castings.csv...\n",
      "   movie  people  order  leading\n",
      "0  10001    4374      1        1\n",
      "1  10001     178      2        1\n",
      "2  10001    3241      3        1\n",
      "3  10001   47952      4        1\n",
      "4  10001   47953      5        0\n"
     ]
    }
   ],
   "source": [
    "kmrd_path = \"../../../../Downloads/kmrd-small\"\n",
    "display_dataset_heads(kmrd_path)"
   ]
  },
  {
   "cell_type": "markdown",
   "id": "68e38f5e-3568-4a88-a4b9-5bea16818667",
   "metadata": {},
   "source": [
    "- 영화, 사용자, 장르, 출연배우, 제작국가, 제작일, 출시일, 평점, 평가일 전부 확인할 수 있음"
   ]
  },
  {
   "cell_type": "markdown",
   "id": "ba1b7f9e-5dae-4969-80f9-20ff975ef0f9",
   "metadata": {},
   "source": [
    "# Netflix Dataset"
   ]
  },
  {
   "cell_type": "code",
   "execution_count": 21,
   "id": "d9469b3a-fe73-4814-87f9-bcc011c1f644",
   "metadata": {},
   "outputs": [
    {
     "name": "stdout",
     "output_type": "stream",
     "text": [
      "\n",
      "Loading qualifying.txt...\n",
      "                    0\n",
      "0                  1:\n",
      "1  1046323,2005-12-19\n",
      "2  1080030,2005-12-23\n",
      "3  1830096,2005-03-14\n",
      "4   368059,2005-05-26\n",
      "\n",
      "Loading movie_titles.txt...\n",
      "                                     0\n",
      "0               1,2003,Dinosaur Planet\n",
      "1    2,2004,Isle of Man TT 2004 Review\n",
      "2                     3,1997,Character\n",
      "3  4,1994,Paula Abdul's Get Up & Dance\n",
      "4      5,2004,The Rise and Fall of ECW\n",
      "\n",
      "Loading probe.txt...\n",
      "         0\n",
      "0       1:\n",
      "1    30878\n",
      "2  2647871\n",
      "3  1283744\n",
      "4  2488120\n"
     ]
    }
   ],
   "source": [
    "\n",
    "netfilx_path = \"../../../../Downloads/nf_prize\"\n",
    "display_dataset_heads(netfilx_path, encoding=\"latin1\")"
   ]
  },
  {
   "cell_type": "markdown",
   "id": "d251734c-2e4d-4a87-8c08-305acb438e60",
   "metadata": {},
   "source": [
    "- 영화, 사용자, 출시일, 평점, 평가일 확인할 수 있음 -> 사용자의 평점에 집중한 데이터"
   ]
  },
  {
   "cell_type": "markdown",
   "id": "881cd32a-5376-4227-ad98-4115f9b57dbb",
   "metadata": {},
   "source": [
    "MOVIES FILE DESCRIPTION   \n",
    "MovieID,YearOfRelease,Title   \n",
    "\n",
    "QUALIFYING AND PREDICTION DATASET FILE DESCRIPTION    \n",
    "MovieID1:      \n",
    "CustomerID11,Date11     \n",
    "     \n",
    "THE PROBE DATASET FILE DESCRIPTION   \n",
    "MovieID1:   \n",
    "CustomerID11   \n",
    "CustomerID12  \n",
    "  \n",
    "TRAINING DATASET FILE DESCRIPTION  \n",
    "CustomerID,Rating,Date  \n"
   ]
  },
  {
   "cell_type": "code",
   "execution_count": null,
   "id": "410e36e5-649d-4f65-9881-1d359142f217",
   "metadata": {},
   "outputs": [],
   "source": []
  }
 ],
 "metadata": {
  "kernelspec": {
   "display_name": "Python 3 (ipykernel)",
   "language": "python",
   "name": "python3"
  },
  "language_info": {
   "codemirror_mode": {
    "name": "ipython",
    "version": 3
   },
   "file_extension": ".py",
   "mimetype": "text/x-python",
   "name": "python",
   "nbconvert_exporter": "python",
   "pygments_lexer": "ipython3",
   "version": "3.13.1"
  }
 },
 "nbformat": 4,
 "nbformat_minor": 5
}
