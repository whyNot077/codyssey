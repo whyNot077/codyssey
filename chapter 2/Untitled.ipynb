{
 "cells": [
  {
   "cell_type": "markdown",
   "id": "9c8e72ea-ca3e-4e62-82b1-968eb39ea7ca",
   "metadata": {},
   "source": [
    "# 영화 관련 데이터셋 비교하기\n",
    "- MovieLens, KMRD, Netflix 데이터셋을 비교한다.\n",
    "- 영화, 사용자, 장르, 출연배우, 제작국가, 제작일, 출시일, 평점, 평가일 등 제공하는 정보를 확인하고 조합해 보면서 확인한다."
   ]
  },
  {
   "cell_type": "markdown",
   "id": "859bf9f9-bc30-4d0e-b7d7-d6d7047990ff",
   "metadata": {},
   "source": [
    "# MovieLens Dataset\n"
   ]
  }
 ],
 "metadata": {
  "kernelspec": {
   "display_name": "Python 3 (ipykernel)",
   "language": "python",
   "name": "python3"
  },
  "language_info": {
   "codemirror_mode": {
    "name": "ipython",
    "version": 3
   },
   "file_extension": ".py",
   "mimetype": "text/x-python",
   "name": "python",
   "nbconvert_exporter": "python",
   "pygments_lexer": "ipython3",
   "version": "3.13.1"
  }
 },
 "nbformat": 4,
 "nbformat_minor": 5
}
