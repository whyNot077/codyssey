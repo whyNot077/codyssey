{
 "cells": [
  {
   "cell_type": "code",
   "execution_count": 128,
   "id": "51f20bdb-df20-4818-9dff-9c5770550da1",
   "metadata": {},
   "outputs": [],
   "source": [
    "import pandas as pd\n",
    "import os\n",
    "\n",
    "def get_dataframe(dataset_path, encoding=\"utf-8\"):\n",
    "    try:\n",
    "        # List all files in the dataset directory\n",
    "        files = os.listdir(dataset_path)\n",
    "\n",
    "        # Dictionary to store DataFrames\n",
    "        dataframes = {}\n",
    "\n",
    "        # Loop through each file\n",
    "        for file in files:\n",
    "            file_path = os.path.join(dataset_path, file)\n",
    "\n",
    "            # Check for .csv or .txt files\n",
    "            if file.endswith(\".csv\"):\n",
    "                data = pd.read_csv(file_path, engine='c', encoding=encoding)\n",
    "                dataframes[file] = data\n",
    "            elif file.endswith(\".txt\"):\n",
    "                data = pd.read_csv(file_path, delimiter='[|\\t]', engine='python', header=None, encoding=encoding)\n",
    "                dataframes[file] = data\n",
    "        return dataframes\n",
    "    except FileNotFoundError as e:\n",
    "        print(f\"Error: {e}\")\n",
    "    except Exception as e:\n",
    "        print(f\"An unexpected error occurred: {e}\")"
   ]
  },
  {
   "cell_type": "code",
   "execution_count": 129,
   "id": "81f81975-02c6-49cc-b40b-cd34e548c6b0",
   "metadata": {},
   "outputs": [
    {
     "name": "stdout",
     "output_type": "stream",
     "text": [
      "dict_keys(['countries.csv', 'movies.txt', 'genres.csv', 'rates.csv', 'peoples.txt', 'castings.csv'])\n"
     ]
    }
   ],
   "source": [
    "kmrd_path = \"../../kmrd-small\"\n",
    "dataframes = get_dataframe(kmrd_path)\n",
    "print(f\"{dataframes.keys()}\")"
   ]
  },
  {
   "cell_type": "code",
   "execution_count": 130,
   "id": "5b170cb6-ce3f-448a-98f5-66375245e6d3",
   "metadata": {},
   "outputs": [],
   "source": [
    "# countries.csv 데이터프레임 불러오기\n",
    "countries_df = dataframes['countries.csv']\n",
    "\n",
    "movies_df = dataframes['movies.txt'].copy()\n",
    "movies_df.columns = movies_df.iloc[0]  # 첫 번째 행을 열 이름으로 설정\n",
    "movies_df = movies_df.iloc[1:]  # 첫 번째 행 제거\n",
    "movies_df.reset_index(drop=True, inplace=True)\n",
    "\n",
    "# 1. Title과 Title_eng의 결측치를 처리\n",
    "# 둘 중 하나만 있는 경우, 없는 값을 다른 값으로 채움\n",
    "movies_df.loc[movies_df['title'].isnull() & movies_df['title_eng'].notnull(), 'title'] = movies_df['title_eng']\n",
    "movies_df.loc[movies_df['title_eng'].isnull() & movies_df['title'].notnull(), 'title_eng'] = movies_df['title']\n",
    "\n",
    "# 둘 다 없는 경우 해당 행 제거\n",
    "movies_df = movies_df.dropna(subset=['title', 'title_eng'])\n",
    "\n",
    "\n",
    "# 2. Year 열의 결측치를 최빈값으로 채움\n",
    "if movies_df['year'].isnull().sum() > 0:  # 결측치가 있는 경우\n",
    "    most_frequent_year = movies_df['year'].mode()[0]  # 최빈값 계산\n",
    "    movies_df['year'] = movies_df['year'].fillna(most_frequent_year)\n",
    "\n",
    "# 3. Grade 열의 결측치를 'Unknown'으로 채움\n",
    "movies_df['grade'] = movies_df['grade'].fillna('Unknown')\n",
    "\n",
    "# 4. type 재설정\n",
    "movies_df['movie'] = movies_df['movie'].astype(int)\n",
    "movies_df['year'] = movies_df['year'].astype(int)\n",
    "\n",
    "genres_df = dataframes['genres.csv']\n",
    "rates_df = dataframes['rates.csv']\n",
    "\n",
    "# Unix 타임스탬프를 datetime으로 변환\n",
    "rates_df['time'] = pd.to_datetime(rates_df['time'], unit='s')\n",
    "\n",
    "# peoples.txt 데이터프레임 불러오기\n",
    "peoples_df = dataframes['peoples.txt'].copy()\n",
    "\n",
    "# 첫 번째 행 제거 및 열 이름 설정\n",
    "peoples_df.columns = peoples_df.iloc[0]  # 첫 번째 행을 열 이름으로 설정\n",
    "peoples_df = peoples_df.iloc[1:]  # 첫 번째 행 제거\n",
    "\n",
    "# 인덱스 재설정\n",
    "peoples_df.reset_index(drop=True, inplace=True)\n",
    "\n",
    "peoples_df['original'] = peoples_df['original'].fillna('Unknown')\n",
    "\n",
    "# 4. type 재설정\n",
    "peoples_df['people'] = peoples_df['people'].astype(int)\n",
    "\n",
    "# castings.csv 데이터프레임 불러오기\n",
    "castings_df = dataframes['castings.csv']"
   ]
  },
  {
   "cell_type": "markdown",
   "metadata": {},
   "source": []
  },
  {
   "cell_type": "code",
   "execution_count": 131,
   "id": "4aa9db5d-f8e5-4a3d-a8d4-67e1ccd77ef1",
   "metadata": {},
   "outputs": [],
   "source": [
    "import matplotlib.pyplot as plt\n",
    "\n",
    "# 한글 폰트 설정\n",
    "plt.rcParams['font.family'] = 'AppleGothic'  # MacOS: 'AppleGothic', Windows: 'Malgun Gothic'\n",
    "plt.rcParams['axes.unicode_minus'] = False  # 마이너스 기호 깨짐 방지"
   ]
  },
  {
   "cell_type": "markdown",
   "id": "ee5e768d-007f-49bf-a882-62903842c46b",
   "metadata": {},
   "source": [
    "### bar chart"
   ]
  },
  {
   "cell_type": "code",
   "execution_count": 132,
   "id": "364815a0-e1ab-4684-b39b-5ed337a590c0",
   "metadata": {},
   "outputs": [],
   "source": [
    "import matplotlib.pyplot as plt\n",
    "import seaborn as sns\n",
    "\n",
    "def draw_bar_chart(df, x_column, y_column, figsize=(7, 4), title=None, xlabel=None, ylabel=None):\n",
    "    \"\"\"\n",
    "    Draw a bar chart for grouped data.\n",
    "\n",
    "    Args:\n",
    "        df (pd.DataFrame): DataFrame containing the data.\n",
    "        x_column (str): The name of the column for the x-axis.\n",
    "        y_column (str): The name of the column for the y-axis.\n",
    "        figsize (tuple): Size of the figure. Default is (7, 4).\n",
    "        title (str): Title for the bar chart. Default is None.\n",
    "        xlabel (str): Label for the x-axis. Default is None.\n",
    "        ylabel (str): Label for the y-axis. Default is None.\n",
    "    \"\"\"\n",
    "    plt.figure(figsize=figsize)\n",
    "    sns.barplot(data=df, x=x_column, y=y_column, color=\"skyblue\")\n",
    "    plt.grid(True, linestyle='--', linewidth=0.7, alpha=0.7)\n",
    "    plt.xlabel(xlabel if xlabel else x_column, fontsize=12)\n",
    "    plt.ylabel(ylabel if ylabel else y_column, fontsize=12)\n",
    "    plt.title(title if title else f'Bar Chart of {y_column} by {x_column}', fontsize=14)\n",
    "    plt.xticks(rotation=45)\n",
    "    plt.tight_layout()\n",
    "    plt.show()\n"
   ]
  },
  {
   "cell_type": "markdown",
   "id": "feea5378-1674-4a7f-a164-59ab821f0c9e",
   "metadata": {},
   "source": [
    "### 국가별 영화 수"
   ]
  },
  {
   "cell_type": "code",
   "execution_count": 133,
   "id": "686515cf-83a2-48dd-8f0d-be1a6a05949a",
   "metadata": {},
   "outputs": [
    {
     "name": "stdout",
     "output_type": "stream",
     "text": [
      "      country  movie_count\n",
      "12         미국          654\n",
      "34         한국           94\n",
      "22         영국           94\n",
      "32        프랑스           70\n",
      "35         홍콩           51\n",
      "25       이탈리아           43\n",
      "9    독일(구 서독)           20\n",
      "23    오스트레일리아           12\n",
      "6          대만           10\n",
      "18        스페인            7\n",
      "26         일본            6\n",
      "29        캐나다            6\n",
      "27         중국            5\n",
      "10  러시아(구 소련)            4\n",
      "17        스웨덴            4\n",
      "2   남아프리카 공화국            3\n",
      "31        폴란드            3\n",
      "8          독일            2\n",
      "15       보츠와나            2\n",
      "16        브라질            2\n",
      "21        알제리            2\n"
     ]
    }
   ],
   "source": [
    "country_per_movie = (\n",
    "    countries_df.groupby('country', as_index=False)\n",
    "    .agg(movie_count=('movie', 'count'))\n",
    "    .sort_values(by='movie_count', ascending=False)\n",
    "    .query('movie_count > 1')\n",
    ")\n",
    "\n",
    "print(country_per_movie)"
   ]
  },
  {
   "cell_type": "code",
   "execution_count": 134,
   "id": "22a7f071-6fcd-4441-a81d-7ae520e5c8d1",
   "metadata": {},
   "outputs": [
    {
     "data": {
      "image/png": "[encoded data removed]",
      "text/plain": [
       "<Figure size 1000x600 with 1 Axes>"
      ]
     },
     "metadata": {},
     "output_type": "display_data"
    }
   ],
   "source": [
    "draw_bar_chart(\n",
    "    df=country_per_movie,\n",
    "    x_column='country',\n",
    "    y_column='movie_count',\n",
    "    title=\"Countries per Released Movie\",\n",
    "    figsize=(10, 6),\n",
    "    xlabel=\"Countries\",\n",
    "    ylabel=\"Number of Released Movies\"\n",
    ")\n",
    "    "
   ]
  },
  {
   "cell_type": "markdown",
   "id": "587dcf88-d2d7-40f5-8030-5419dda0d725",
   "metadata": {},
   "source": [
    "# 출연배우 탐색"
   ]
  },
  {
   "cell_type": "code",
   "execution_count": 135,
   "id": "5d37a306-5802-4224-ab92-0ae29b3724c2",
   "metadata": {},
   "outputs": [
    {
     "data": {
      "text/html": [
       "<div>\n",
       "<style scoped>\n",
       "    .dataframe tbody tr th:only-of-type {\n",
       "        vertical-align: middle;\n",
       "    }\n",
       "\n",
       "    .dataframe tbody tr th {\n",
       "        vertical-align: top;\n",
       "    }\n",
       "\n",
       "    .dataframe thead th {\n",
       "        text-align: right;\n",
       "    }\n",
       "</style>\n",
       "<table border=\"1\" class=\"dataframe\">\n",
       "  <thead>\n",
       "    <tr style=\"text-align: right;\">\n",
       "      <th></th>\n",
       "      <th>people</th>\n",
       "      <th>korean</th>\n",
       "      <th>original</th>\n",
       "    </tr>\n",
       "  </thead>\n",
       "  <tbody>\n",
       "    <tr>\n",
       "      <th>0</th>\n",
       "      <td>5</td>\n",
       "      <td>아담 볼드윈</td>\n",
       "      <td>Adam Baldwin</td>\n",
       "    </tr>\n",
       "    <tr>\n",
       "      <th>1</th>\n",
       "      <td>8</td>\n",
       "      <td>애드리안 라인</td>\n",
       "      <td>Adrian Lyne</td>\n",
       "    </tr>\n",
       "    <tr>\n",
       "      <th>2</th>\n",
       "      <td>9</td>\n",
       "      <td>에이단 퀸</td>\n",
       "      <td>Aidan Quinn</td>\n",
       "    </tr>\n",
       "  </tbody>\n",
       "</table>\n",
       "</div>"
      ],
      "text/plain": [
       "0  people   korean      original\n",
       "0       5   아담 볼드윈  Adam Baldwin\n",
       "1       8  애드리안 라인   Adrian Lyne\n",
       "2       9    에이단 퀸   Aidan Quinn"
      ]
     },
     "execution_count": 135,
     "metadata": {},
     "output_type": "execute_result"
    }
   ],
   "source": [
    "peoples_df.head(3)"
   ]
  },
  {
   "cell_type": "code",
   "execution_count": 136,
   "id": "467f9bdf-94d9-4cc3-a39a-b110e5831159",
   "metadata": {},
   "outputs": [
    {
     "data": {
      "text/html": [
       "<div>\n",
       "<style scoped>\n",
       "    .dataframe tbody tr th:only-of-type {\n",
       "        vertical-align: middle;\n",
       "    }\n",
       "\n",
       "    .dataframe tbody tr th {\n",
       "        vertical-align: top;\n",
       "    }\n",
       "\n",
       "    .dataframe thead th {\n",
       "        text-align: right;\n",
       "    }\n",
       "</style>\n",
       "<table border=\"1\" class=\"dataframe\">\n",
       "  <thead>\n",
       "    <tr style=\"text-align: right;\">\n",
       "      <th></th>\n",
       "      <th>movie</th>\n",
       "      <th>people</th>\n",
       "      <th>order</th>\n",
       "      <th>leading</th>\n",
       "    </tr>\n",
       "  </thead>\n",
       "  <tbody>\n",
       "    <tr>\n",
       "      <th>0</th>\n",
       "      <td>10001</td>\n",
       "      <td>4374</td>\n",
       "      <td>1</td>\n",
       "      <td>1</td>\n",
       "    </tr>\n",
       "    <tr>\n",
       "      <th>1</th>\n",
       "      <td>10001</td>\n",
       "      <td>178</td>\n",
       "      <td>2</td>\n",
       "      <td>1</td>\n",
       "    </tr>\n",
       "    <tr>\n",
       "      <th>2</th>\n",
       "      <td>10001</td>\n",
       "      <td>3241</td>\n",
       "      <td>3</td>\n",
       "      <td>1</td>\n",
       "    </tr>\n",
       "  </tbody>\n",
       "</table>\n",
       "</div>"
      ],
      "text/plain": [
       "   movie  people  order  leading\n",
       "0  10001    4374      1        1\n",
       "1  10001     178      2        1\n",
       "2  10001    3241      3        1"
      ]
     },
     "execution_count": 136,
     "metadata": {},
     "output_type": "execute_result"
    }
   ],
   "source": [
    "castings_df.head(3)"
   ]
  },
  {
   "cell_type": "markdown",
   "id": "a060a81b-5d33-4892-be44-c87e3c908b19",
   "metadata": {},
   "source": [
    "### 가장 많은 영화에 주연으로 출연한 배우"
   ]
  },
  {
   "cell_type": "code",
   "execution_count": 229,
   "id": "7a0d19df-0cab-4464-ae59-13b7aa45b391",
   "metadata": {},
   "outputs": [
    {
     "name": "stdout",
     "output_type": "stream",
     "text": [
      "로버트 드 니로 (Robert De Niro), 주연으로 16회 출연\n"
     ]
    },
    {
     "data": {
      "text/html": [
       "<div>\n",
       "<style scoped>\n",
       "    .dataframe tbody tr th:only-of-type {\n",
       "        vertical-align: middle;\n",
       "    }\n",
       "\n",
       "    .dataframe tbody tr th {\n",
       "        vertical-align: top;\n",
       "    }\n",
       "\n",
       "    .dataframe thead th {\n",
       "        text-align: right;\n",
       "    }\n",
       "</style>\n",
       "<table border=\"1\" class=\"dataframe\">\n",
       "  <thead>\n",
       "    <tr style=\"text-align: right;\">\n",
       "      <th></th>\n",
       "      <th>korean</th>\n",
       "      <th>leading_count</th>\n",
       "      <th>original</th>\n",
       "    </tr>\n",
       "  </thead>\n",
       "  <tbody>\n",
       "    <tr>\n",
       "      <th>290</th>\n",
       "      <td>로버트 드 니로</td>\n",
       "      <td>16</td>\n",
       "      <td>Robert De Niro</td>\n",
       "    </tr>\n",
       "    <tr>\n",
       "      <th>826</th>\n",
       "      <td>안성기</td>\n",
       "      <td>13</td>\n",
       "      <td>Unknown</td>\n",
       "    </tr>\n",
       "    <tr>\n",
       "      <th>738</th>\n",
       "      <td>숀 코네리</td>\n",
       "      <td>11</td>\n",
       "      <td>Sean Connery</td>\n",
       "    </tr>\n",
       "    <tr>\n",
       "      <th>786</th>\n",
       "      <td>실베스터 스탤론</td>\n",
       "      <td>11</td>\n",
       "      <td>Sylvester Stallone</td>\n",
       "    </tr>\n",
       "    <tr>\n",
       "      <th>1521</th>\n",
       "      <td>클린트 이스트우드</td>\n",
       "      <td>11</td>\n",
       "      <td>Clint Eastwood</td>\n",
       "    </tr>\n",
       "  </tbody>\n",
       "</table>\n",
       "</div>"
      ],
      "text/plain": [
       "         korean  leading_count            original\n",
       "290    로버트 드 니로             16      Robert De Niro\n",
       "826         안성기             13             Unknown\n",
       "738       숀 코네리             11        Sean Connery\n",
       "786    실베스터 스탤론             11  Sylvester Stallone\n",
       "1521  클린트 이스트우드             11      Clint Eastwood"
      ]
     },
     "execution_count": 229,
     "metadata": {},
     "output_type": "execute_result"
    }
   ],
   "source": [
    "leading_actors = (\n",
    "    peoples_df.merge(castings_df, on='people')\n",
    "    .query('leading == 1')\n",
    "    .groupby(['korean'], as_index=False)\n",
    "    .agg(\n",
    "        leading_count=('leading', 'count'),\n",
    "        original=('original', 'first')\n",
    "    )\n",
    "    .sort_values(by='leading_count', ascending=False)  # 주연 횟수 기준 정렬\n",
    ")\n",
    "\n",
    "# 최상위 배우 정보 추출\n",
    "top_actor = leading_actors.iloc[0]\n",
    "print(f\"{top_actor['korean']} ({top_actor['original']}), 주연으로 {top_actor['leading_count']}회 출연\")\n",
    "leading_actors.head()"
   ]
  },
  {
   "cell_type": "markdown",
   "id": "0806f360-0c08-4dda-b1ec-5c8c031e5ed4",
   "metadata": {},
   "source": [
    "- first: 첫 번째 값을 반환 (현재 사용 중).\n",
    "- last: 마지막 값을 반환.\n",
    "- min: 사전순 또는 숫자 값의 최소값 반환.\n",
    "- max: 사전순 또는 숫자 값의 최대값 반환.\n",
    "- 사용자 정의 함수: 예를 들어, 특정 조건으로 값을 처리.\n",
    "\n",
    "\n",
    "people\tkorean\toriginal   \n",
    "1\t송강호\tSong KangHo   \n",
    "1\t송강호\tKangHo Song   \n",
    "2\t이병헌\tLee ByungHun   \n",
    "\n",
    "original=('original', 'first')\n",
    "- 결과: \"Song KangHo\"\n",
    "original=('original', 'last')\n",
    "- 결과: \"KangHo Song\"\n",
    "\n",
    "사용자 정의 함수:\n",
    "original=('original', lambda x: x.iloc[0])  # 첫 번째 값\n",
    "original=('original', lambda x: ' / '.join(x))  # 모든 값을 슬래시로 연결\n"
   ]
  },
  {
   "cell_type": "markdown",
   "id": "771ae84a-621f-4b84-82cf-96c5818eb48f",
   "metadata": {},
   "source": [
    "### 가장 많은 영화에 조연으로 출연한 배우"
   ]
  },
  {
   "cell_type": "code",
   "execution_count": 230,
   "id": "1be8d163-c168-4791-b6e5-c72f136fb14e",
   "metadata": {},
   "outputs": [
    {
     "name": "stdout",
     "output_type": "stream",
     "text": [
      "우마 (Wu Ma), 조연으로 9회 출연\n"
     ]
    },
    {
     "data": {
      "text/html": [
       "<div>\n",
       "<style scoped>\n",
       "    .dataframe tbody tr th:only-of-type {\n",
       "        vertical-align: middle;\n",
       "    }\n",
       "\n",
       "    .dataframe tbody tr th {\n",
       "        vertical-align: top;\n",
       "    }\n",
       "\n",
       "    .dataframe thead th {\n",
       "        text-align: right;\n",
       "    }\n",
       "</style>\n",
       "<table border=\"1\" class=\"dataframe\">\n",
       "  <thead>\n",
       "    <tr style=\"text-align: right;\">\n",
       "      <th></th>\n",
       "      <th>korean</th>\n",
       "      <th>leading_count</th>\n",
       "      <th>original</th>\n",
       "    </tr>\n",
       "  </thead>\n",
       "  <tbody>\n",
       "    <tr>\n",
       "      <th>3122</th>\n",
       "      <td>우마</td>\n",
       "      <td>9</td>\n",
       "      <td>Wu Ma</td>\n",
       "    </tr>\n",
       "    <tr>\n",
       "      <th>1806</th>\n",
       "      <td>박예숙</td>\n",
       "      <td>7</td>\n",
       "      <td>Unknown</td>\n",
       "    </tr>\n",
       "    <tr>\n",
       "      <th>283</th>\n",
       "      <td>나갑성</td>\n",
       "      <td>7</td>\n",
       "      <td>Unknown</td>\n",
       "    </tr>\n",
       "    <tr>\n",
       "      <th>3918</th>\n",
       "      <td>조주미</td>\n",
       "      <td>6</td>\n",
       "      <td>Unknown</td>\n",
       "    </tr>\n",
       "    <tr>\n",
       "      <th>4150</th>\n",
       "      <td>주호성</td>\n",
       "      <td>6</td>\n",
       "      <td>Unknown</td>\n",
       "    </tr>\n",
       "  </tbody>\n",
       "</table>\n",
       "</div>"
      ],
      "text/plain": [
       "     korean  leading_count original\n",
       "3122     우마              9    Wu Ma\n",
       "1806    박예숙              7  Unknown\n",
       "283     나갑성              7  Unknown\n",
       "3918    조주미              6  Unknown\n",
       "4150    주호성              6  Unknown"
      ]
     },
     "execution_count": 230,
     "metadata": {},
     "output_type": "execute_result"
    }
   ],
   "source": [
    "actors = (\n",
    "    peoples_df.merge(castings_df, on='people')\n",
    "    .query('leading == 0')\n",
    "    .groupby(['korean'], as_index=False)\n",
    "    .agg(\n",
    "        leading_count=('leading', 'count'),\n",
    "        original=('original', 'first'),\n",
    "    )\n",
    "    .sort_values(by='leading_count', ascending=False)\n",
    ")\n",
    "\n",
    "# 최상위 배우 정보 추출\n",
    "top_actor = actors.iloc[0]\n",
    "print(f\"{top_actor['korean']} ({top_actor['original']}), 조연으로 {top_actor['leading_count']}회 출연\")\n",
    "actors.head()"
   ]
  },
  {
   "cell_type": "markdown",
   "id": "fb88b3ed-d961-4ab4-8d5a-c2d0ec9d39c9",
   "metadata": {},
   "source": [
    "### 주연으로 출연한 영화(5편 이상 출연)들의 평균 평점이 가장 높은 영화(평점 10개 이상)의 주연 배우\n",
    "- (상위 3개 영화 등 조건을 변경할 수 있게 처리)"
   ]
  },
  {
   "cell_type": "code",
   "execution_count": 170,
   "id": "4cf83724-ff23-44be-a3aa-b95a921d3919",
   "metadata": {},
   "outputs": [
    {
     "data": {
      "text/html": [
       "<div>\n",
       "<style scoped>\n",
       "    .dataframe tbody tr th:only-of-type {\n",
       "        vertical-align: middle;\n",
       "    }\n",
       "\n",
       "    .dataframe tbody tr th {\n",
       "        vertical-align: top;\n",
       "    }\n",
       "\n",
       "    .dataframe thead th {\n",
       "        text-align: right;\n",
       "    }\n",
       "</style>\n",
       "<table border=\"1\" class=\"dataframe\">\n",
       "  <thead>\n",
       "    <tr style=\"text-align: right;\">\n",
       "      <th></th>\n",
       "      <th>movie</th>\n",
       "      <th>title</th>\n",
       "      <th>title_eng</th>\n",
       "      <th>year</th>\n",
       "      <th>grade</th>\n",
       "    </tr>\n",
       "  </thead>\n",
       "  <tbody>\n",
       "    <tr>\n",
       "      <th>0</th>\n",
       "      <td>10001</td>\n",
       "      <td>시네마 천국</td>\n",
       "      <td>Cinema Paradiso , 1988</td>\n",
       "      <td>2013</td>\n",
       "      <td>전체 관람가</td>\n",
       "    </tr>\n",
       "    <tr>\n",
       "      <th>1</th>\n",
       "      <td>10002</td>\n",
       "      <td>빽 투 더 퓨쳐</td>\n",
       "      <td>Back To The Future , 1985</td>\n",
       "      <td>2015</td>\n",
       "      <td>12세 관람가</td>\n",
       "    </tr>\n",
       "    <tr>\n",
       "      <th>2</th>\n",
       "      <td>10003</td>\n",
       "      <td>빽 투 더 퓨쳐 2</td>\n",
       "      <td>Back To The Future Part 2 , 1989</td>\n",
       "      <td>2015</td>\n",
       "      <td>12세 관람가</td>\n",
       "    </tr>\n",
       "  </tbody>\n",
       "</table>\n",
       "</div>"
      ],
      "text/plain": [
       "0  movie       title                         title_eng  year    grade\n",
       "0  10001      시네마 천국            Cinema Paradiso , 1988  2013   전체 관람가\n",
       "1  10002    빽 투 더 퓨쳐         Back To The Future , 1985  2015  12세 관람가\n",
       "2  10003  빽 투 더 퓨쳐 2  Back To The Future Part 2 , 1989  2015  12세 관람가"
      ]
     },
     "execution_count": 170,
     "metadata": {},
     "output_type": "execute_result"
    }
   ],
   "source": [
    "movies_df.head(3)"
   ]
  },
  {
   "cell_type": "code",
   "execution_count": 171,
   "id": "fed3f32a-3090-4b8f-99c4-5a0c7d1b99d8",
   "metadata": {},
   "outputs": [
    {
     "data": {
      "text/html": [
       "<div>\n",
       "<style scoped>\n",
       "    .dataframe tbody tr th:only-of-type {\n",
       "        vertical-align: middle;\n",
       "    }\n",
       "\n",
       "    .dataframe tbody tr th {\n",
       "        vertical-align: top;\n",
       "    }\n",
       "\n",
       "    .dataframe thead th {\n",
       "        text-align: right;\n",
       "    }\n",
       "</style>\n",
       "<table border=\"1\" class=\"dataframe\">\n",
       "  <thead>\n",
       "    <tr style=\"text-align: right;\">\n",
       "      <th></th>\n",
       "      <th>user</th>\n",
       "      <th>movie</th>\n",
       "      <th>rate</th>\n",
       "      <th>time</th>\n",
       "    </tr>\n",
       "  </thead>\n",
       "  <tbody>\n",
       "    <tr>\n",
       "      <th>0</th>\n",
       "      <td>0</td>\n",
       "      <td>10003</td>\n",
       "      <td>7</td>\n",
       "      <td>2017-05-07 03:34:00</td>\n",
       "    </tr>\n",
       "    <tr>\n",
       "      <th>1</th>\n",
       "      <td>0</td>\n",
       "      <td>10004</td>\n",
       "      <td>7</td>\n",
       "      <td>2016-07-03 07:10:00</td>\n",
       "    </tr>\n",
       "    <tr>\n",
       "      <th>2</th>\n",
       "      <td>0</td>\n",
       "      <td>10018</td>\n",
       "      <td>9</td>\n",
       "      <td>2017-12-15 13:22:00</td>\n",
       "    </tr>\n",
       "  </tbody>\n",
       "</table>\n",
       "</div>"
      ],
      "text/plain": [
       "   user  movie  rate                time\n",
       "0     0  10003     7 2017-05-07 03:34:00\n",
       "1     0  10004     7 2016-07-03 07:10:00\n",
       "2     0  10018     9 2017-12-15 13:22:00"
      ]
     },
     "execution_count": 171,
     "metadata": {},
     "output_type": "execute_result"
    }
   ],
   "source": [
    "rates_df.head(3)"
   ]
  },
  {
   "cell_type": "code",
   "execution_count": 222,
   "id": "345ef4bd-4906-45f8-8208-ea9279e4c20d",
   "metadata": {},
   "outputs": [
    {
     "data": {
      "text/html": [
       "<div>\n",
       "<style scoped>\n",
       "    .dataframe tbody tr th:only-of-type {\n",
       "        vertical-align: middle;\n",
       "    }\n",
       "\n",
       "    .dataframe tbody tr th {\n",
       "        vertical-align: top;\n",
       "    }\n",
       "\n",
       "    .dataframe thead th {\n",
       "        text-align: right;\n",
       "    }\n",
       "</style>\n",
       "<table border=\"1\" class=\"dataframe\">\n",
       "  <thead>\n",
       "    <tr style=\"text-align: right;\">\n",
       "      <th></th>\n",
       "      <th>korean</th>\n",
       "      <th>leading_count</th>\n",
       "      <th>movies</th>\n",
       "    </tr>\n",
       "  </thead>\n",
       "  <tbody>\n",
       "    <tr>\n",
       "      <th>17</th>\n",
       "      <td>강수연</td>\n",
       "      <td>5</td>\n",
       "      <td>[10134, 10421, 10468, 10837, 10921]</td>\n",
       "    </tr>\n",
       "    <tr>\n",
       "      <th>18</th>\n",
       "      <td>강신성일</td>\n",
       "      <td>7</td>\n",
       "      <td>[10063, 10199, 10271, 10446, 10567, 10846, 10937]</td>\n",
       "    </tr>\n",
       "    <tr>\n",
       "      <th>30</th>\n",
       "      <td>골디 혼</td>\n",
       "      <td>6</td>\n",
       "      <td>[10139, 10206, 10339, 10961, 10965, 10996]</td>\n",
       "    </tr>\n",
       "  </tbody>\n",
       "</table>\n",
       "</div>"
      ],
      "text/plain": [
       "   korean  leading_count                                             movies\n",
       "17    강수연              5                [10134, 10421, 10468, 10837, 10921]\n",
       "18   강신성일              7  [10063, 10199, 10271, 10446, 10567, 10846, 10937]\n",
       "30   골디 혼              6         [10139, 10206, 10339, 10961, 10965, 10996]"
      ]
     },
     "execution_count": 222,
     "metadata": {},
     "output_type": "execute_result"
    }
   ],
   "source": [
    "best_actors = (\n",
    "    peoples_df.merge(castings_df, on='people')\n",
    "    .query('leading == 1')\n",
    "    .groupby('korean', as_index=False)\n",
    "    .agg(\n",
    "        leading_count=('leading', 'count'),\n",
    "        movies=('movie', list)\n",
    "    )\n",
    "    .query('leading_count >= 5')\n",
    ")\n",
    "best_actors.head(3)"
   ]
  },
  {
   "cell_type": "code",
   "execution_count": 223,
   "id": "9124d5bd-c653-44e7-ab36-c222d9ac8ab8",
   "metadata": {},
   "outputs": [
    {
     "data": {
      "text/html": [
       "<div>\n",
       "<style scoped>\n",
       "    .dataframe tbody tr th:only-of-type {\n",
       "        vertical-align: middle;\n",
       "    }\n",
       "\n",
       "    .dataframe tbody tr th {\n",
       "        vertical-align: top;\n",
       "    }\n",
       "\n",
       "    .dataframe thead th {\n",
       "        text-align: right;\n",
       "    }\n",
       "</style>\n",
       "<table border=\"1\" class=\"dataframe\">\n",
       "  <thead>\n",
       "    <tr style=\"text-align: right;\">\n",
       "      <th></th>\n",
       "      <th>movie</th>\n",
       "      <th>mean_rate</th>\n",
       "      <th>rate_count</th>\n",
       "    </tr>\n",
       "  </thead>\n",
       "  <tbody>\n",
       "    <tr>\n",
       "      <th>0</th>\n",
       "      <td>10001</td>\n",
       "      <td>9.294360</td>\n",
       "      <td>3635</td>\n",
       "    </tr>\n",
       "    <tr>\n",
       "      <th>1</th>\n",
       "      <td>10002</td>\n",
       "      <td>9.416778</td>\n",
       "      <td>3004</td>\n",
       "    </tr>\n",
       "    <tr>\n",
       "      <th>2</th>\n",
       "      <td>10003</td>\n",
       "      <td>9.270981</td>\n",
       "      <td>989</td>\n",
       "    </tr>\n",
       "  </tbody>\n",
       "</table>\n",
       "</div>"
      ],
      "text/plain": [
       "   movie  mean_rate  rate_count\n",
       "0  10001   9.294360        3635\n",
       "1  10002   9.416778        3004\n",
       "2  10003   9.270981         989"
      ]
     },
     "execution_count": 223,
     "metadata": {},
     "output_type": "execute_result"
    }
   ],
   "source": [
    "best_movies = (\n",
    "    movies_df.merge(rates_df, on=\"movie\")\n",
    "    .groupby('movie', as_index=False)\n",
    "    .agg(\n",
    "        mean_rate=('rate', 'mean'),\n",
    "        rate_count=('rate', 'count')\n",
    "    )\n",
    "    .query('rate_count >= 10')\n",
    ")\n",
    "best_movies.head(3)"
   ]
  },
  {
   "cell_type": "code",
   "execution_count": 224,
   "id": "6dd6a895-afc5-4c1b-ba93-da3027e791b1",
   "metadata": {},
   "outputs": [
    {
     "name": "stdout",
     "output_type": "stream",
     "text": [
      "평균 평점이 높은 상위 3명의 배우:\n",
      "    korean  mean_rate\n",
      "72  찰리 채플린   9.302453\n",
      "6   다이안 키튼   9.208945\n",
      "50     안정국   9.098039\n"
     ]
    }
   ],
   "source": [
    "top_n = 3\n",
    "top_actors = (\n",
    "    best_actors.explode('movies')\n",
    "    .merge(best_movies[['movie', 'mean_rate']], left_on='movies', right_on='movie', how='left')\n",
    "    .groupby(['korean'], as_index=False)\n",
    "    .agg(\n",
    "        mean_rate=('mean_rate', 'mean')\n",
    "    )\n",
    "    .nlargest(top_n, 'mean_rate')\n",
    ")\n",
    "\n",
    "print(f\"평균 평점이 높은 상위 {top_n}명의 배우:\")\n",
    "print(top_actors)"
   ]
  },
  {
   "cell_type": "markdown",
   "id": "e70af1f2-af27-4ac2-9add-5a11ac0f49ae",
   "metadata": {},
   "source": [
    "- explode : 리스트를 행으로 분리\n",
    "  \n",
    "best_actors (before explode):   \n",
    "korean\tmovies   \n",
    "배우 A\t[10134, 10421, 10468]   \n",
    "배우 B\t[10176, 10234]\n",
    "\n",
    "best_actors.explode('movies') (after explode):   \n",
    "korean\tmovies   \n",
    "배우 A\t10134   \n",
    "배우 A\t10421   \n",
    "배우 A\t10468  \n",
    "배우 B\t10176  \n",
    "배우 B\t10234  "
   ]
  },
  {
   "cell_type": "markdown",
   "id": "b2f5a689-60b8-41ac-8942-e3282a32ebd1",
   "metadata": {},
   "source": [
    "- merge(best_movies[['movie', 'mean_rate']], left_on='movies', right_on='movie', how='left')  \n",
    ": best_actors 데이터프레임의 각 movies(영화 ID)에 대해 best_movies 데이터프레임에서 해당 영화의 mean_rate(평균 평점)를 병합\n",
    "\n",
    "- best_movies[['movie', 'mean_rate']]: best_movies의 두 열을 선택\n",
    "- left_on='movies': best_actors의 movies 열을 기준으로 병합.\n",
    "- right_on='movie': best_movies의 movie 열을 기준으로 병합.\n",
    "- how='left': best_actors의 모든 행을 유지하며, 매칭되지 않는 movie는 NaN으로 남김.\n",
    "\n",
    "\n",
    "best_movies[['movie', 'mean_rate']]:   \n",
    "movie\tmean_rate  \n",
    "10134\t9.1  \n",
    "10421\t8.5  \n",
    "10176\t9.7  \n",
    "  \n",
    "korean\tmovies\tmean_rate  \n",
    "배우 A\t10134\t9.1  \n",
    "배우 A\t10421\t8.5  \n",
    "배우 A\t10468\tNaN  \n",
    "배우 B\t10176\t9.7  \n",
    "배우 B\t10234\tNaN  \n"
   ]
  },
  {
   "cell_type": "markdown",
   "id": "7ca5893a-4adf-4819-b5ea-7b1a1f5f9ca1",
   "metadata": {},
   "source": [
    "- nlargest / nsmallest sort_values + 슬라이싱보다 효율적으로 값을 찾을 수 있음\n",
    "- idxmax / idxmin : 지정된 열의 값이 가장 큰 또는 가장 작은 행의 인덱스를 반환."
   ]
  },
  {
   "cell_type": "code",
   "execution_count": null,
   "id": "7f15254d-c850-4757-a176-c6d9d06efee2",
   "metadata": {},
   "outputs": [],
   "source": []
  },
  {
   "cell_type": "code",
   "execution_count": null,
   "id": "78fa627f-7e24-4a71-ac1b-0022fb0f48ce",
   "metadata": {},
   "outputs": [],
   "source": []
  }
 ],
 "metadata": {
  "kernelspec": {
   "display_name": "Python 3 (ipykernel)",
   "language": "python",
   "name": "python3"
  },
  "language_info": {
   "codemirror_mode": {
    "name": "ipython",
    "version": 3
   },
   "file_extension": ".py",
   "mimetype": "text/x-python",
   "name": "python",
   "nbconvert_exporter": "python",
   "pygments_lexer": "ipython3",
   "version": "3.13.1"
  }
 },
 "nbformat": 4,
 "nbformat_minor": 5
}
