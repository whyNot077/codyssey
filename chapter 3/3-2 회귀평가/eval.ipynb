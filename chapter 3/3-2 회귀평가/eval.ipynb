{
 "cells": [
  {
   "cell_type": "markdown",
   "id": "4e7b637e-1238-4cca-a740-ee40ec2b05d9",
   "metadata": {},
   "source": [
    "## MovieDataLoader"
   ]
  },
  {
   "cell_type": "code",
   "execution_count": 206,
   "id": "a9fa2b64-df93-4e71-b560-c5bcd93e992a",
   "metadata": {},
   "outputs": [],
   "source": [
    "import pandas as pd\n",
    "import os\n",
    "\n",
    "class MovieDataLoader:\n",
    "    def __init__(self):\n",
    "        \"\"\"Initialize without parameters.\"\"\"\n",
    "        pass\n",
    "\n",
    "    def load(self, file_path, encoding=\"utf-8\"):\n",
    "        \"\"\"\n",
    "        Load a single file into a DataFrame.\n",
    "\n",
    "        Parameters:\n",
    "        - file_path: str, the path to the file to load.\n",
    "        - encoding: str, encoding to use for reading the file.\n",
    "\n",
    "        Returns:\n",
    "        - DataFrame: the loaded DataFrame.\n",
    "        \"\"\"\n",
    "        try:\n",
    "            # Check if the file exists\n",
    "            if not os.path.exists(file_path):\n",
    "                raise FileNotFoundError(f\"File not found: {file_path}\")\n",
    "\n",
    "            # Load data based on file extension\n",
    "            if file_path.endswith(\".csv\"):\n",
    "                return pd.read_csv(file_path, engine='c', encoding=encoding)\n",
    "            elif file_path.endswith(\".txt\"):\n",
    "                return pd.read_csv(file_path, delimiter='[|\\t]', engine='python', header=None, encoding=encoding)\n",
    "            else:\n",
    "                raise ValueError(\"Unsupported file format. Only .csv and .txt are supported.\")\n",
    "        except FileNotFoundError as e:\n",
    "            print(f\"Error: {e}\")\n",
    "        except Exception as e:\n",
    "            print(f\"An unexpected error occurred: {e}\")\n",
    "        return None\n",
    "\n",
    "    @staticmethod\n",
    "    def remove_first_row(df):\n",
    "        \"\"\"Remove the first row of the DataFrame and reset column names.\"\"\"\n",
    "        df.columns = df.iloc[0]  # Set first row as column names\n",
    "        df = df.iloc[1:]  # Remove the first row\n",
    "        df.reset_index(drop=True, inplace=True)\n",
    "        return df\n",
    "\n",
    "    @staticmethod\n",
    "    def change_datatype(df, column, dtype):\n",
    "        \"\"\"\n",
    "        Change the data type of a specific column.\n",
    "        가장 마지막에 호출해야 함(NaN값이면 터짐)\n",
    "        \"\"\"\n",
    "        df[column] = df[column].astype(dtype)\n",
    "        return df\n",
    "\n",
    "    @staticmethod\n",
    "    def fill_each_other(df, col1, col2):\n",
    "        \"\"\"Fill missing values in one column using values from another column.\"\"\"\n",
    "        df.loc[df[col1].isnull() & df[col2].notnull(), col1] = df[col2]\n",
    "        df.loc[df[col2].isnull() & df[col1].notnull(), col2] = df[col1]\n",
    "        df = df.dropna(subset=[col1, col2])  # Drop rows where both columns are null\n",
    "        return df\n",
    "\n",
    "    @staticmethod\n",
    "    def fill_val(df, column, value):\n",
    "        \"\"\"Fill missing values in a specific column with a given value.\"\"\"\n",
    "        df[column] = df[column].fillna(value)\n",
    "        return df"
   ]
  },
  {
   "cell_type": "markdown",
   "id": "402d35cd-f42b-4885-b475-998f8bf24f0b",
   "metadata": {},
   "source": [
    "## Load Dataset"
   ]
  },
  {
   "cell_type": "code",
   "execution_count": 207,
   "id": "cc00640c-a324-4a31-9f86-050503eba003",
   "metadata": {},
   "outputs": [],
   "source": [
    "kmrd_path = \"../../kmrd-small\"\n",
    "file_paths = {\n",
    "    'countries.csv': f\"{kmrd_path}/countries.csv\",\n",
    "    'movies.txt': f\"{kmrd_path}/movies.txt\",\n",
    "    'genres.csv': f\"{kmrd_path}/genres.csv\",\n",
    "    'rates.csv': f\"{kmrd_path}/rates.csv\",\n",
    "    'peoples.txt': f\"{kmrd_path}/peoples.txt\",\n",
    "    'castings.csv': f\"{kmrd_path}/castings.csv\",\n",
    "}\n",
    "\n",
    "loader = MovieDataLoader()\n",
    "\n",
    "# Process 'countries.csv'\n",
    "countries_df = loader.load(file_paths['countries.csv'])\n",
    "\n",
    "# Process 'movies.txt'\n",
    "movies_df = loader.load(file_paths['movies.txt'])\n",
    "movies_df = MovieDataLoader.remove_first_row(movies_df)\n",
    "movies_df = MovieDataLoader.fill_each_other(movies_df, 'title', 'title_eng')\n",
    "movies_df = MovieDataLoader.fill_val(movies_df, 'grade', 'Unknown')\n",
    "movies_df = MovieDataLoader.fill_val(movies_df, 'year', 0)\n",
    "movies_df = MovieDataLoader.change_datatype(movies_df, 'year', int)\n",
    "movies_df = MovieDataLoader.change_datatype(movies_df, 'movie', int)\n",
    "\n",
    "# Process 'genres.csv'\n",
    "genres_df = loader.load(file_paths['genres.csv'])\n",
    "\n",
    "# Process 'rates.csv': Convert Unix timestamp to datetime\n",
    "rates_df = loader.load(file_paths['rates.csv'])\n",
    "rates_df['time'] = pd.to_datetime(rates_df['time'], unit='s')\n",
    "\n",
    "# Process 'peoples.txt'\n",
    "peoples_df = loader.load(file_paths['peoples.txt'])\n",
    "peoples_df = MovieDataLoader.remove_first_row(peoples_df)\n",
    "peoples_df = MovieDataLoader.fill_val(peoples_df, 'original', 'Unknown')\n",
    "peoples_df = MovieDataLoader.change_datatype(peoples_df, 'people', int)\n",
    "\n",
    "# Process 'castings.csv'\n",
    "castings_df = loader.load(file_paths['castings.csv'])"
   ]
  },
  {
   "cell_type": "code",
   "execution_count": 208,
   "id": "43d40963-374c-495e-acc1-07922c4bd7ff",
   "metadata": {},
   "outputs": [],
   "source": [
    "import matplotlib.pyplot as plt\n",
    "\n",
    "# 한글 폰트 설정\n",
    "plt.rcParams['font.family'] = 'AppleGothic'  # MacOS: 'AppleGothic', Windows: 'Malgun Gothic'\n",
    "plt.rcParams['axes.unicode_minus'] = False  # 마이너스 기호 깨짐 방지"
   ]
  },
  {
   "cell_type": "code",
   "execution_count": 209,
   "id": "0cc74e32-4a49-49fd-a6ed-31b7dce4a3c0",
   "metadata": {},
   "outputs": [
    {
     "name": "stdout",
     "output_type": "stream",
     "text": [
      "\n",
      "Movies DataFrame:\n",
      "0  movie                 title                           title_eng  year  \\\n",
      "0  10001                시네마 천국              Cinema Paradiso , 1988  2013   \n",
      "1  10002              빽 투 더 퓨쳐           Back To The Future , 1985  2015   \n",
      "2  10003            빽 투 더 퓨쳐 2    Back To The Future Part 2 , 1989  2015   \n",
      "3  10004            빽 투 더 퓨쳐 3  Back To The Future Part III , 1990  1990   \n",
      "4  10005  스타워즈 에피소드 4 - 새로운 희망                    Star Wars , 1977  1997   \n",
      "\n",
      "0    grade  \n",
      "0   전체 관람가  \n",
      "1  12세 관람가  \n",
      "2  12세 관람가  \n",
      "3   전체 관람가  \n",
      "4       PG  \n",
      "<class 'pandas.core.frame.DataFrame'>\n",
      "Index: 992 entries, 0 to 998\n",
      "Data columns (total 5 columns):\n",
      " #   Column     Non-Null Count  Dtype \n",
      "---  ------     --------------  ----- \n",
      " 0   movie      992 non-null    int64 \n",
      " 1   title      992 non-null    object\n",
      " 2   title_eng  992 non-null    object\n",
      " 3   year       992 non-null    int64 \n",
      " 4   grade      992 non-null    object\n",
      "dtypes: int64(2), object(3)\n",
      "memory usage: 46.5+ KB\n",
      "None\n",
      "\n",
      "Rates DataFrame:\n",
      "   user  movie  rate                time\n",
      "0     0  10003     7 2017-05-07 03:34:00\n",
      "1     0  10004     7 2016-07-03 07:10:00\n",
      "2     0  10018     9 2017-12-15 13:22:00\n",
      "3     0  10021     9 2015-02-21 05:53:00\n",
      "4     0  10022     7 2015-03-29 11:09:00\n",
      "<class 'pandas.core.frame.DataFrame'>\n",
      "RangeIndex: 140710 entries, 0 to 140709\n",
      "Data columns (total 4 columns):\n",
      " #   Column  Non-Null Count   Dtype         \n",
      "---  ------  --------------   -----         \n",
      " 0   user    140710 non-null  int64         \n",
      " 1   movie   140710 non-null  int64         \n",
      " 2   rate    140710 non-null  int64         \n",
      " 3   time    140710 non-null  datetime64[ns]\n",
      "dtypes: datetime64[ns](1), int64(3)\n",
      "memory usage: 4.3 MB\n",
      "None\n"
     ]
    }
   ],
   "source": [
    "\n",
    "# # Print head of each DataFrame to verify\n",
    "# print(\"Countries DataFrame:\")\n",
    "# print(countries_df.head())\n",
    "# print(countries_df.info())\n",
    "\n",
    "print(\"\\nMovies DataFrame:\")\n",
    "print(movies_df.head())\n",
    "print(movies_df.info())\n",
    "\n",
    "# print(\"\\nGenres DataFrame:\")\n",
    "# print(genres_df.head())\n",
    "# print(genres_df.info())\n",
    "\n",
    "print(\"\\nRates DataFrame:\")\n",
    "print(rates_df.head())\n",
    "print(rates_df.info())\n",
    "\n",
    "# print(\"\\nPeoples DataFrame:\")\n",
    "# print(peoples_df.head())\n",
    "# print(peoples_df.info())\n",
    "\n",
    "# print(\"\\nCastings DataFrame:\")\n",
    "# print(castings_df.head())\n",
    "# print(castings_df.info())\n"
   ]
  },
  {
   "cell_type": "markdown",
   "id": "b766e0e0-d12b-4f9f-87c3-22c174b0011d",
   "metadata": {},
   "source": [
    "## RandomRecommender"
   ]
  },
  {
   "cell_type": "code",
   "execution_count": 210,
   "id": "b6cca230-1162-4d19-b697-67e51fe77965",
   "metadata": {},
   "outputs": [],
   "source": [
    "import pandas as pd\n",
    "import numpy as np\n",
    "\n",
    "class RandomRecommender:\n",
    "    def __init__(self, movies_df, rates_df):\n",
    "        \"\"\"\n",
    "        Initialize with movies and ratings DataFrames.\n",
    "        \"\"\"\n",
    "        self.movies_df = movies_df\n",
    "        self.rates_df = rates_df\n",
    "\n",
    "    def run(self, n=3, variation=50):\n",
    "        \"\"\"\n",
    "        Generate random ratings and return the resulting DataFrame.\n",
    "        \n",
    "        Parameters:\n",
    "        - n (int): Number of top results to return.\n",
    "        - variation (int): Variation percentage for random error, applied as 1 ± (variation / 100).\n",
    "        \"\"\"\n",
    "        # Convert variation to percentage-based float\n",
    "        variation = variation / 100.0\n",
    "        \n",
    "        top_n_df = (self.movies_df.merge(self.rates_df, on=\"movie\")\n",
    "                    .assign(rate_random=lambda df: df[\"rate\"] * np.random.uniform(1 - variation, 1 + variation, size=len(df)))\n",
    "                    .groupby(\"movie\", as_index=False)\n",
    "                    .agg({\"rate_random\": \"mean\", \"title\": \"first\"})\n",
    "                    .nlargest(n, \"rate_random\"))\n",
    "    \n",
    "        return top_n_df"
   ]
  },
  {
   "cell_type": "markdown",
   "id": "f1244c2d-cd3e-4706-a6b6-70abf227075e",
   "metadata": {},
   "source": [
    "1. DataFrame.assign(new_column_name=calculation_or_value)\n",
    ": 새로운 열을 추가하거나, 가존 열을 수정하는 함수\n",
    "\n",
    "2. lambda arguments: expression   \n",
    "arguments: 함수의 인자.  \n",
    "expression: 반환할 계산식(항상 값을 반환함).  \n",
    "   \n",
    "- lambda df: df[\"rate\"] * np.random.uniform(0.5, 1.5, size=len(df)\n",
    "df를 인자로 받아 df[\"rate\"] * np.random.uniform(0.5, 1.5, size=len(df)를 반환한다. \n",
    "\n",
    "3. random.uniform(a, b) : [a, b] 범위 내에서 임의로 선택된 실수 값을 반환.  \n",
    "- np.random.uniform(low, high, size) : np.random.uniform은 배열 형태로 다수의 난수를 생성\n",
    "low: 범위의 최소값 (포함).  \n",
    "high: 범위의 최대값 (포함).  \n",
    "size: 생성할 난수의 개수 (배열 크기).  \n",
    "                                              \n",
    "- np.random.uniform(0.5, 1.5, size=len(df)):   \n",
    "NumPy의 random.uniform 함수는 0.5에서 1.5 사이의 난수를 생성한다 -> +50%, -50%의 변동을 줌.   \n",
    "값의 비율을 적당히 조정하면서, 원래 값의 의미를 크게 벗어나지 않도록 한다.\n",
    "\n",
    "size=len(df)를 통해 데이터프레임의 행 수와 동일한 길이의 난수 배열을 생성한다.   "
   ]
  },
  {
   "cell_type": "markdown",
   "id": "422ea44e-0dfb-4f91-ac3e-e2130ed2df6a",
   "metadata": {},
   "source": [
    "## Analyzer"
   ]
  },
  {
   "cell_type": "code",
   "execution_count": 213,
   "id": "ba917787-b158-4955-927e-e1055b465d7c",
   "metadata": {},
   "outputs": [],
   "source": [
    "from sklearn.metrics import mean_absolute_error, mean_squared_error, mean_absolute_percentage_error\n",
    "\n",
    "class Analyzer:\n",
    "    def __init__(self, result_df, rates_df):\n",
    "        self.result_df = result_df\n",
    "        self.rates_df = rates_df\n",
    "\n",
    "    def calculate_metrics(self):\n",
    "        \"\"\"Calculate MAE, MSE, RMSE, and MAPE for the result DataFrame.\"\"\"\n",
    "        metrics = (\n",
    "            self.rates_df.merge(self.result_df, on=\"movie\")[[\"rate\", \"rate_random\"]]\n",
    "            .pipe(lambda df: {\n",
    "                \"MAE\": np.mean(np.abs(df[\"rate\"] - df[\"rate_random\"])),\n",
    "                \"MSE\": np.mean((df[\"rate\"] - df[\"rate_random\"]) ** 2),\n",
    "                \"RMSE\": np.sqrt(np.mean((df[\"rate\"] - df[\"rate_random\"]) ** 2)),\n",
    "                \"MAPE\": np.mean((np.abs(df[\"rate\"] - df[\"rate_random\"]) / np.abs(df[\"rate\"]))) * 100,\n",
    "            })\n",
    "        )\n",
    "        return metrics\n",
    "    \n",
    "    def calculate_sklearn_metrics(self):\n",
    "        \"\"\"Calculate metrics using sklearn for comparison.\"\"\"\n",
    "        merged_df = self.rates_df.merge(self.result_df, on=\"movie\")\n",
    "        actual = merged_df[\"rate\"]\n",
    "        predicted = merged_df[\"rate_random\"]\n",
    "    \n",
    "        mae = mean_absolute_error(actual, predicted)\n",
    "        mse = mean_squared_error(actual, predicted)\n",
    "        rmse = np.sqrt(mse)  # Direct RMSE calculation\n",
    "        mape = mean_absolute_percentage_error(actual, predicted) * 100\n",
    "    \n",
    "        return {\"MAE_sklearn\": mae, \"MSE_sklearn\": mse, \"RMSE_sklearn\": rmse, \"MAPE_sklearn\": mape}\n",
    "\n",
    "    def display_results(self):\n",
    "        \"\"\"Display metrics and comparison with sklearn metrics.\"\"\"\n",
    "        metrics = self.calculate_metrics()\n",
    "        sklearn_metrics = self.calculate_sklearn_metrics()\n",
    "\n",
    "        print(\"Analysis Metrics:\")\n",
    "        for metric, value in metrics.items():\n",
    "            print(f\"{metric}: {value:.4f}\")\n",
    "\n",
    "        print(\"\\nSklearn Metrics:\")\n",
    "        for metric, value in sklearn_metrics.items():\n",
    "            print(f\"{metric}: {value:.4f}\")"
   ]
  },
  {
   "cell_type": "code",
   "execution_count": 214,
   "id": "f21ad2b1-b809-45c3-9c3e-961253e3ad4b",
   "metadata": {},
   "outputs": [
    {
     "name": "stdout",
     "output_type": "stream",
     "text": [
      "Analysis Metrics:\n",
      "MAE: 4.6258\n",
      "MSE: 21.3981\n",
      "RMSE: 4.6258\n",
      "MAPE: 46.2581\n",
      "\n",
      "Sklearn Metrics:\n",
      "MAE_sklearn: 4.6258\n",
      "MSE_sklearn: 21.3981\n",
      "RMSE_sklearn: 4.6258\n",
      "MAPE_sklearn: 46.2581\n"
     ]
    }
   ],
   "source": [
    "recommender = RandomRecommender(movies_df, rates_df)\n",
    "result_df = recommender.run(n=1)\n",
    "analyzer = Analyzer(result_df, rates_df)\n",
    "analyzer.display_results()"
   ]
  },
  {
   "cell_type": "code",
   "execution_count": 215,
   "id": "3b1888ba-0464-422d-9a1c-4192265ef104",
   "metadata": {},
   "outputs": [
    {
     "name": "stdout",
     "output_type": "stream",
     "text": [
      "Analysis Metrics:\n",
      "MAE: 1.4208\n",
      "MSE: 2.7234\n",
      "RMSE: 1.6503\n",
      "MAPE: 14.9640\n",
      "\n",
      "Sklearn Metrics:\n",
      "MAE_sklearn: 1.4208\n",
      "MSE_sklearn: 2.7234\n",
      "RMSE_sklearn: 1.6503\n",
      "MAPE_sklearn: 14.9640\n"
     ]
    }
   ],
   "source": [
    "recommender = RandomRecommender(movies_df, rates_df)\n",
    "result_df = recommender.run(n=10)\n",
    "analyzer = Analyzer(result_df, rates_df)\n",
    "analyzer.display_results()"
   ]
  },
  {
   "cell_type": "code",
   "execution_count": 216,
   "id": "d33e9309-3cec-43f0-84c4-bf8ee72ef1b5",
   "metadata": {},
   "outputs": [
    {
     "name": "stdout",
     "output_type": "stream",
     "text": [
      "Analysis Metrics:\n",
      "MAE: 0.1288\n",
      "MSE: 0.0644\n",
      "RMSE: 0.2538\n",
      "MAPE: 1.3600\n",
      "\n",
      "Sklearn Metrics:\n",
      "MAE_sklearn: 0.1288\n",
      "MSE_sklearn: 0.0644\n",
      "RMSE_sklearn: 0.2538\n",
      "MAPE_sklearn: 1.3600\n"
     ]
    }
   ],
   "source": [
    "recommender = RandomRecommender(movies_df, rates_df)\n",
    "result_df = recommender.run(n=10, variation=0)\n",
    "analyzer = Analyzer(result_df, rates_df)\n",
    "analyzer.display_results()"
   ]
  },
  {
   "cell_type": "code",
   "execution_count": 217,
   "id": "51209c00-0e63-45e2-933a-63f88cadca85",
   "metadata": {},
   "outputs": [
    {
     "name": "stdout",
     "output_type": "stream",
     "text": [
      "Analysis Metrics:\n",
      "MAE: 3.0676\n",
      "MSE: 12.1362\n",
      "RMSE: 3.4837\n",
      "MAPE: 36.1307\n",
      "\n",
      "Sklearn Metrics:\n",
      "MAE_sklearn: 3.0676\n",
      "MSE_sklearn: 12.1362\n",
      "RMSE_sklearn: 3.4837\n",
      "MAPE_sklearn: 36.1307\n"
     ]
    }
   ],
   "source": [
    "recommender = RandomRecommender(movies_df, rates_df)\n",
    "result_df = recommender.run(n=10, variation=80)\n",
    "analyzer = Analyzer(result_df, rates_df)\n",
    "analyzer.display_results()"
   ]
  },
  {
   "cell_type": "code",
   "execution_count": 218,
   "id": "87864474-4b03-4d0b-b7b8-f6c5988c8c02",
   "metadata": {},
   "outputs": [
    {
     "name": "stdout",
     "output_type": "stream",
     "text": [
      "Analysis Metrics:\n",
      "MAE: 0.8613\n",
      "MSE: 2.8199\n",
      "RMSE: 1.6792\n",
      "MAPE: 30.3617\n",
      "\n",
      "Sklearn Metrics:\n",
      "MAE_sklearn: 0.8613\n",
      "MSE_sklearn: 2.8199\n",
      "RMSE_sklearn: 1.6792\n",
      "MAPE_sklearn: 30.3617\n"
     ]
    }
   ],
   "source": [
    "recommender = RandomRecommender(movies_df, rates_df)\n",
    "result_df = recommender.run(n=30)\n",
    "analyzer = Analyzer(result_df, rates_df)\n",
    "analyzer.display_results()"
   ]
  },
  {
   "cell_type": "code",
   "execution_count": 219,
   "id": "c97e7240-005b-4bcb-a72e-33b2df6c4a52",
   "metadata": {},
   "outputs": [
    {
     "name": "stdout",
     "output_type": "stream",
     "text": [
      "Analysis Metrics:\n",
      "MAE: 1.0101\n",
      "MSE: 3.5320\n",
      "RMSE: 1.8793\n",
      "MAPE: 39.7740\n",
      "\n",
      "Sklearn Metrics:\n",
      "MAE_sklearn: 1.0101\n",
      "MSE_sklearn: 3.5320\n",
      "RMSE_sklearn: 1.8793\n",
      "MAPE_sklearn: 39.7740\n"
     ]
    }
   ],
   "source": [
    "recommender = RandomRecommender(movies_df, rates_df)\n",
    "result_df = recommender.run(n=50)\n",
    "analyzer = Analyzer(result_df, rates_df)\n",
    "analyzer.display_results()"
   ]
  },
  {
   "cell_type": "code",
   "execution_count": 220,
   "id": "ee33eaf5-0906-4ef9-8021-734ae56dbbd9",
   "metadata": {},
   "outputs": [
    {
     "name": "stdout",
     "output_type": "stream",
     "text": [
      "Analysis Metrics:\n",
      "MAE: 1.0606\n",
      "MSE: 3.5590\n",
      "RMSE: 1.8865\n",
      "MAPE: 39.3681\n",
      "\n",
      "Sklearn Metrics:\n",
      "MAE_sklearn: 1.0606\n",
      "MSE_sklearn: 3.5590\n",
      "RMSE_sklearn: 1.8865\n",
      "MAPE_sklearn: 39.3681\n"
     ]
    }
   ],
   "source": [
    "recommender = RandomRecommender(movies_df, rates_df)\n",
    "result_df = recommender.run(n=100)\n",
    "analyzer = Analyzer(result_df, rates_df)\n",
    "analyzer.display_results()"
   ]
  },
  {
   "cell_type": "code",
   "execution_count": 221,
   "id": "30b0a04f-b865-4952-b6f2-deab0b3d098a",
   "metadata": {},
   "outputs": [
    {
     "name": "stdout",
     "output_type": "stream",
     "text": [
      "Analysis Metrics:\n",
      "MAE: 1.2737\n",
      "MSE: 3.9548\n",
      "RMSE: 1.9887\n",
      "MAPE: 41.0228\n",
      "\n",
      "Sklearn Metrics:\n",
      "MAE_sklearn: 1.2737\n",
      "MSE_sklearn: 3.9548\n",
      "RMSE_sklearn: 1.9887\n",
      "MAPE_sklearn: 41.0228\n"
     ]
    }
   ],
   "source": [
    "recommender = RandomRecommender(movies_df, rates_df)\n",
    "result_df = recommender.run(n=500)\n",
    "analyzer = Analyzer(result_df, rates_df)\n",
    "analyzer.display_results()"
   ]
  },
  {
   "cell_type": "code",
   "execution_count": 222,
   "id": "9e34bcb0-5f88-4b38-b111-56b964710718",
   "metadata": {},
   "outputs": [
    {
     "name": "stdout",
     "output_type": "stream",
     "text": [
      "Analysis Metrics:\n",
      "MAE: 1.3065\n",
      "MSE: 4.1138\n",
      "RMSE: 2.0282\n",
      "MAPE: 42.7856\n",
      "\n",
      "Sklearn Metrics:\n",
      "MAE_sklearn: 1.3065\n",
      "MSE_sklearn: 4.1138\n",
      "RMSE_sklearn: 2.0282\n",
      "MAPE_sklearn: 42.7856\n"
     ]
    }
   ],
   "source": [
    "recommender = RandomRecommender(movies_df, rates_df)\n",
    "result_df = recommender.run(n=1000)\n",
    "analyzer = Analyzer(result_df, rates_df)\n",
    "analyzer.display_results()"
   ]
  },
  {
   "cell_type": "code",
   "execution_count": 223,
   "id": "0b120e57-667c-4f92-800c-dbe20af44add",
   "metadata": {},
   "outputs": [
    {
     "name": "stdout",
     "output_type": "stream",
     "text": [
      "Analysis Metrics:\n",
      "MAE: 1.3156\n",
      "MSE: 4.1544\n",
      "RMSE: 2.0382\n",
      "MAPE: 42.9238\n",
      "\n",
      "Sklearn Metrics:\n",
      "MAE_sklearn: 1.3156\n",
      "MSE_sklearn: 4.1544\n",
      "RMSE_sklearn: 2.0382\n",
      "MAPE_sklearn: 42.9238\n"
     ]
    }
   ],
   "source": [
    "recommender = RandomRecommender(movies_df, rates_df)\n",
    "result_df = recommender.run(n=1000, variation=80)\n",
    "analyzer = Analyzer(result_df, rates_df)\n",
    "analyzer.display_results()"
   ]
  },
  {
   "cell_type": "code",
   "execution_count": null,
   "id": "77c370db-2813-4aa4-adb1-4bc357a0c42f",
   "metadata": {},
   "outputs": [],
   "source": []
  },
  {
   "cell_type": "code",
   "execution_count": null,
   "id": "dbdf9cde-0e80-40ee-b5c4-ce000b7fc84a",
   "metadata": {},
   "outputs": [],
   "source": []
  },
  {
   "cell_type": "code",
   "execution_count": null,
   "id": "affb5518-c597-4892-a3f3-d028296c5b18",
   "metadata": {},
   "outputs": [],
   "source": []
  }
 ],
 "metadata": {
  "kernelspec": {
   "display_name": "Python 3 (ipykernel)",
   "language": "python",
   "name": "python3"
  },
  "language_info": {
   "codemirror_mode": {
    "name": "ipython",
    "version": 3
   },
   "file_extension": ".py",
   "mimetype": "text/x-python",
   "name": "python",
   "nbconvert_exporter": "python",
   "pygments_lexer": "ipython3",
   "version": "3.13.1"
  }
 },
 "nbformat": 4,
 "nbformat_minor": 5
}
