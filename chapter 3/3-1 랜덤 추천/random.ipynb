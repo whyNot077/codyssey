{
 "cells": [
  {
   "cell_type": "markdown",
   "id": "4e7b637e-1238-4cca-a740-ee40ec2b05d9",
   "metadata": {},
   "source": [
    "## MovieDataLoader"
   ]
  },
  {
   "cell_type": "code",
   "execution_count": 34,
   "id": "a9fa2b64-df93-4e71-b560-c5bcd93e992a",
   "metadata": {},
   "outputs": [],
   "source": [
    "import pandas as pd\n",
    "import os\n",
    "\n",
    "class MovieDataLoader:\n",
    "    def __init__(self):\n",
    "        \"\"\"Initialize without parameters.\"\"\"\n",
    "        pass\n",
    "\n",
    "    def load(self, file_path, encoding=\"utf-8\"):\n",
    "        \"\"\"\n",
    "        Load a single file into a DataFrame.\n",
    "\n",
    "        Parameters:\n",
    "        - file_path: str, the path to the file to load.\n",
    "        - encoding: str, encoding to use for reading the file.\n",
    "\n",
    "        Returns:\n",
    "        - DataFrame: the loaded DataFrame.\n",
    "        \"\"\"\n",
    "        try:\n",
    "            # Check if the file exists\n",
    "            if not os.path.exists(file_path):\n",
    "                raise FileNotFoundError(f\"File not found: {file_path}\")\n",
    "\n",
    "            # Load data based on file extension\n",
    "            if file_path.endswith(\".csv\"):\n",
    "                return pd.read_csv(file_path, engine='c', encoding=encoding)\n",
    "            elif file_path.endswith(\".txt\"):\n",
    "                return pd.read_csv(file_path, delimiter='[|\\t]', engine='python', header=None, encoding=encoding)\n",
    "            else:\n",
    "                raise ValueError(\"Unsupported file format. Only .csv and .txt are supported.\")\n",
    "        except FileNotFoundError as e:\n",
    "            print(f\"Error: {e}\")\n",
    "        except Exception as e:\n",
    "            print(f\"An unexpected error occurred: {e}\")\n",
    "        return None\n",
    "\n",
    "    @staticmethod\n",
    "    def remove_first_row(df):\n",
    "        \"\"\"Remove the first row of the DataFrame and reset column names.\"\"\"\n",
    "        df.columns = df.iloc[0]  # Set first row as column names\n",
    "        df = df.iloc[1:]  # Remove the first row\n",
    "        df.reset_index(drop=True, inplace=True)\n",
    "        return df\n",
    "\n",
    "    @staticmethod\n",
    "    def change_datatype(df, column, dtype):\n",
    "        \"\"\"\n",
    "        Change the data type of a specific column.\n",
    "        가장 마지막에 호출해야 함(non값이면 터짐)\n",
    "        \"\"\"\n",
    "        df[column] = df[column].astype(dtype)\n",
    "        return df\n",
    "\n",
    "    @staticmethod\n",
    "    def fill_each_other(df, col1, col2):\n",
    "        \"\"\"Fill missing values in one column using values from another column.\"\"\"\n",
    "        df.loc[df[col1].isnull() & df[col2].notnull(), col1] = df[col2]\n",
    "        df.loc[df[col2].isnull() & df[col1].notnull(), col2] = df[col1]\n",
    "        df = df.dropna(subset=[col1, col2])  # Drop rows where both columns are null\n",
    "        return df\n",
    "\n",
    "    @staticmethod\n",
    "    def fill_val(df, column, value):\n",
    "        \"\"\"Fill missing values in a specific column with a given value.\"\"\"\n",
    "        df[column] = df[column].fillna(value)\n",
    "        return df"
   ]
  },
  {
   "cell_type": "markdown",
   "id": "402d35cd-f42b-4885-b475-998f8bf24f0b",
   "metadata": {},
   "source": [
    "## Load Dataset"
   ]
  },
  {
   "cell_type": "code",
   "execution_count": 39,
   "id": "cc00640c-a324-4a31-9f86-050503eba003",
   "metadata": {},
   "outputs": [],
   "source": [
    "kmrd_path = \"../../kmrd-small\"\n",
    "file_paths = {\n",
    "    'countries.csv': f\"{kmrd_path}/countries.csv\",\n",
    "    'movies.txt': f\"{kmrd_path}/movies.txt\",\n",
    "    'genres.csv': f\"{kmrd_path}/genres.csv\",\n",
    "    'rates.csv': f\"{kmrd_path}/rates.csv\",\n",
    "    'peoples.txt': f\"{kmrd_path}/peoples.txt\",\n",
    "    'castings.csv': f\"{kmrd_path}/castings.csv\",\n",
    "}\n",
    "\n",
    "loader = MovieDataLoader()\n",
    "\n",
    "# Process 'movies.txt'\n",
    "movies_df = loader.load(file_paths['movies.txt'])\n",
    "movies_df = MovieDataLoader.remove_first_row(movies_df)\n",
    "movies_df = MovieDataLoader.fill_each_other(movies_df, 'title', 'title_eng')\n",
    "movies_df = MovieDataLoader.fill_val(movies_df, 'grade', 'Unknown')\n",
    "movies_df = MovieDataLoader.fill_val(movies_df, 'year', 0)\n",
    "movies_df = MovieDataLoader.change_datatype(movies_df, 'year', int)\n",
    "# movies_df.head()\n",
    "\n",
    "# Process 'genres.csv'\n",
    "genres_df = loader.load(file_paths['genres.csv'])\n",
    "# genres_df.head()\n",
    "\n",
    "# Process 'rates.csv': Convert Unix timestamp to datetime\n",
    "rates_df = loader.load(file_paths['rates.csv'])\n",
    "rates_df['time'] = pd.to_datetime(rates_df['time'], unit='s')\n",
    "# rates_df.head()\n",
    "\n",
    "# Process 'peoples.txt'\n",
    "peoples_df = loader.load(file_paths['peoples.txt'])\n",
    "peoples_df = MovieDataLoader.remove_first_row(peoples_df)\n",
    "peoples_df = MovieDataLoader.fill_val(peoples_df, 'original', 'Unknown')\n",
    "peoples_df = MovieDataLoader.change_datatype(peoples_df, 'people', int)\n",
    "# peoples_df.head()\n",
    "\n",
    "# Process 'castings.csv'\n",
    "castings_df = loader.load(file_paths['castings.csv'])\n",
    "# castings_df.head()"
   ]
  },
  {
   "cell_type": "code",
   "execution_count": 40,
   "id": "43d40963-374c-495e-acc1-07922c4bd7ff",
   "metadata": {},
   "outputs": [],
   "source": [
    "import matplotlib.pyplot as plt\n",
    "\n",
    "# 한글 폰트 설정\n",
    "plt.rcParams['font.family'] = 'AppleGothic'  # MacOS: 'AppleGothic', Windows: 'Malgun Gothic'\n",
    "plt.rcParams['axes.unicode_minus'] = False  # 마이너스 기호 깨짐 방지"
   ]
  },
  {
   "cell_type": "markdown",
   "id": "b766e0e0-d12b-4f9f-87c3-22c174b0011d",
   "metadata": {},
   "source": [
    "## RandomRecommender"
   ]
  },
  {
   "cell_type": "code",
   "execution_count": null,
   "id": "b6cca230-1162-4d19-b697-67e51fe77965",
   "metadata": {},
   "outputs": [],
   "source": []
  }
 ],
 "metadata": {
  "kernelspec": {
   "display_name": "Python 3 (ipykernel)",
   "language": "python",
   "name": "python3"
  },
  "language_info": {
   "codemirror_mode": {
    "name": "ipython",
    "version": 3
   },
   "file_extension": ".py",
   "mimetype": "text/x-python",
   "name": "python",
   "nbconvert_exporter": "python",
   "pygments_lexer": "ipython3",
   "version": "3.13.1"
  }
 },
 "nbformat": 4,
 "nbformat_minor": 5
}
